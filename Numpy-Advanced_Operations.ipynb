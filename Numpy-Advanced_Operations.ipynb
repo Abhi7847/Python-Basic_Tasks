{
  "nbformat": 4,
  "nbformat_minor": 0,
  "metadata": {
    "colab": {
      "name": "Lab 6",
      "provenance": [],
      "collapsed_sections": []
    },
    "kernelspec": {
      "name": "python3",
      "display_name": "Python 3"
    },
    "language_info": {
      "name": "python"
    }
  },
  "cells": [
    {
      "cell_type": "markdown",
      "metadata": {
        "id": "OIVOIZD2rX5N"
      },
      "source": [
        "# **Lab 6**"
      ]
    },
    {
      "cell_type": "markdown",
      "metadata": {
        "id": "YtYg4mUnrrsB"
      },
      "source": [
        "**(1) Demonstrate the following Numpy functions:**\n",
        "\n",
        "*     (a)Arithmetic functions: "
      ]
    },
    {
      "cell_type": "code",
      "metadata": {
        "colab": {
          "base_uri": "https://localhost:8080/",
          "height": 0
        },
        "id": "QnqGr3f6rPK0",
        "outputId": "466a1ce0-bdb2-4c2e-f8ce-a1bf3be25e29"
      },
      "source": [
        "# Importing Numpy as np\n",
        "import numpy as np\n",
        "\n",
        "# Creatting 2 arrays of shape (4,4)\n",
        "\n",
        "arr1 = np.arange(5,81,5).reshape(4,4)\n",
        "print(\"arr1 = \\n\", arr1)\n",
        "\n",
        "print()\n",
        "\n",
        "arr2 = np.arange(2,18).reshape(4,4)\n",
        "print(\"arr2 = \\n\",arr2)"
      ],
      "execution_count": 32,
      "outputs": [
        {
          "output_type": "stream",
          "name": "stdout",
          "text": [
            "arr1 = \n",
            " [[ 5 10 15 20]\n",
            " [25 30 35 40]\n",
            " [45 50 55 60]\n",
            " [65 70 75 80]]\n",
            "\n",
            "arr2 = \n",
            " [[ 2  3  4  5]\n",
            " [ 6  7  8  9]\n",
            " [10 11 12 13]\n",
            " [14 15 16 17]]\n"
          ]
        }
      ]
    },
    {
      "cell_type": "code",
      "metadata": {
        "colab": {
          "base_uri": "https://localhost:8080/",
          "height": 0
        },
        "id": "HEzgWRXgwSMJ",
        "outputId": "7956665c-754a-4898-95cf-8e3d26332eb1"
      },
      "source": [
        "# add()\n",
        "\"\"\" numpy.add()- performs element-wise addition between\n",
        "two arrays \"\"\"\n",
        "\n",
        "print(\"Addition of arr1 and arr2 is : \\n\")\n",
        "np.add(arr1,arr2)"
      ],
      "execution_count": 33,
      "outputs": [
        {
          "output_type": "stream",
          "name": "stdout",
          "text": [
            "Addition of arr1 and arr2 is : \n",
            "\n"
          ]
        },
        {
          "output_type": "execute_result",
          "data": {
            "text/plain": [
              "array([[ 7, 13, 19, 25],\n",
              "       [31, 37, 43, 49],\n",
              "       [55, 61, 67, 73],\n",
              "       [79, 85, 91, 97]])"
            ]
          },
          "metadata": {},
          "execution_count": 33
        }
      ]
    },
    {
      "cell_type": "code",
      "metadata": {
        "colab": {
          "base_uri": "https://localhost:8080/",
          "height": 0
        },
        "id": "6_UgvkegxF-F",
        "outputId": "7c48cd6f-86bc-4f4d-e1a9-f5683a460adf"
      },
      "source": [
        "# Subtract()\n",
        "\"\"\"We use this function to output the difference of two arrays. If we subtract\n",
        " two arrays having dissimilar shapes we get “Value Error”. \"\"\"\n",
        "\n",
        "print(\"Subtraction of arr2 from arr1 is : \\n\")\n",
        "np.subtract(arr1,arr2)"
      ],
      "execution_count": 34,
      "outputs": [
        {
          "output_type": "stream",
          "name": "stdout",
          "text": [
            "Subtraction of arr2 from arr1 is : \n",
            "\n"
          ]
        },
        {
          "output_type": "execute_result",
          "data": {
            "text/plain": [
              "array([[ 3,  7, 11, 15],\n",
              "       [19, 23, 27, 31],\n",
              "       [35, 39, 43, 47],\n",
              "       [51, 55, 59, 63]])"
            ]
          },
          "metadata": {},
          "execution_count": 34
        }
      ]
    },
    {
      "cell_type": "code",
      "metadata": {
        "colab": {
          "base_uri": "https://localhost:8080/",
          "height": 0
        },
        "id": "k8X4kwUQyaem",
        "outputId": "40233541-371b-4b40-ec38-f09f8b0ef4d3"
      },
      "source": [
        "# Multiply()\n",
        "\"\"\" We use this function to output the multiplication of two arrays.\n",
        " We cannot work with dissimilar arrays. \"\"\"\n",
        "\n",
        "print(\"Multiplication of arr1 and arr2 is : \\n\")\n",
        "np.multiply(arr1,arr2)"
      ],
      "execution_count": 35,
      "outputs": [
        {
          "output_type": "stream",
          "name": "stdout",
          "text": [
            "Multiplication of arr1 and arr2 is : \n",
            "\n"
          ]
        },
        {
          "output_type": "execute_result",
          "data": {
            "text/plain": [
              "array([[  10,   30,   60,  100],\n",
              "       [ 150,  210,  280,  360],\n",
              "       [ 450,  550,  660,  780],\n",
              "       [ 910, 1050, 1200, 1360]])"
            ]
          },
          "metadata": {},
          "execution_count": 35
        }
      ]
    },
    {
      "cell_type": "code",
      "metadata": {
        "colab": {
          "base_uri": "https://localhost:8080/",
          "height": 0
        },
        "id": "vr_ho9e9zCjE",
        "outputId": "9a993963-3dee-4bc5-dfcd-919bdbc14e5a"
      },
      "source": [
        "# Divide()\n",
        "\"\"\"\" We use this function to output the division of two arrays.\n",
        " We cannot divide dissimilar arrays. \"\"\"\n",
        "\n",
        "print(\"Division of arr1 by arr2 is : \\n\")\n",
        "np.divide(arr1,arr2) "
      ],
      "execution_count": 36,
      "outputs": [
        {
          "output_type": "stream",
          "name": "stdout",
          "text": [
            "Division of arr1 by arr2 is : \n",
            "\n"
          ]
        },
        {
          "output_type": "execute_result",
          "data": {
            "text/plain": [
              "array([[2.5       , 3.33333333, 3.75      , 4.        ],\n",
              "       [4.16666667, 4.28571429, 4.375     , 4.44444444],\n",
              "       [4.5       , 4.54545455, 4.58333333, 4.61538462],\n",
              "       [4.64285714, 4.66666667, 4.6875    , 4.70588235]])"
            ]
          },
          "metadata": {},
          "execution_count": 36
        }
      ]
    },
    {
      "cell_type": "code",
      "metadata": {
        "colab": {
          "base_uri": "https://localhost:8080/",
          "height": 0
        },
        "id": "t5cwgmiK0No3",
        "outputId": "91786c0c-861e-4dba-cfe5-60787f1d6f8c"
      },
      "source": [
        "# Floor Divide()\n",
        "\"\"\" Round a number to the nearest integer toward minus infinity. \"\"\"\n",
        "print(\"Rounding the Division of arr1 by arr2 to the nearest \" \n",
        "      \"integer toward minus infinity : \\n\")\n",
        "np.floor_divide(arr1,arr2)"
      ],
      "execution_count": 37,
      "outputs": [
        {
          "output_type": "stream",
          "name": "stdout",
          "text": [
            "Rounding the Division of arr1 by arr2 to the nearest integer toward minus infinity : \n",
            "\n"
          ]
        },
        {
          "output_type": "execute_result",
          "data": {
            "text/plain": [
              "array([[2, 3, 3, 4],\n",
              "       [4, 4, 4, 4],\n",
              "       [4, 4, 4, 4],\n",
              "       [4, 4, 4, 4]])"
            ]
          },
          "metadata": {},
          "execution_count": 37
        }
      ]
    },
    {
      "cell_type": "markdown",
      "metadata": {
        "id": "Z7E-aVve29Vb"
      },
      "source": [
        "*   (b) Aggregate functions:"
      ]
    },
    {
      "cell_type": "code",
      "metadata": {
        "id": "bCLNMCZX3ARp",
        "colab": {
          "base_uri": "https://localhost:8080/",
          "height": 0
        },
        "outputId": "fd7d53e8-4f2b-4848-fbfb-4e774b37363c"
      },
      "source": [
        "# Creating a random array of shape (10,6)\n",
        "\n",
        "arr_big = np.random.random((10,6))\n",
        "print(arr_big)"
      ],
      "execution_count": 38,
      "outputs": [
        {
          "output_type": "stream",
          "name": "stdout",
          "text": [
            "[[0.6740902  0.35007379 0.47971371 0.25557308 0.26857771 0.74702833]\n",
            " [0.48779257 0.95499393 0.85683713 0.8671896  0.33554499 0.85829978]\n",
            " [0.2491362  0.50964969 0.59590154 0.03209415 0.28276064 0.94201058]\n",
            " [0.00525947 0.93265488 0.02893176 0.66000545 0.10120775 0.33201818]\n",
            " [0.31815686 0.72097641 0.42579924 0.48980465 0.95721091 0.41274789]\n",
            " [0.92961985 0.95810356 0.56971089 0.66443746 0.44539983 0.45624281]\n",
            " [0.85569798 0.2223138  0.35784128 0.75176509 0.33206621 0.46042646]\n",
            " [0.29773525 0.14531889 0.90704735 0.51292948 0.41193785 0.91196287]\n",
            " [0.87499528 0.79396776 0.49897105 0.02223547 0.89734131 0.78917935]\n",
            " [0.06749556 0.38578299 0.59636399 0.19425551 0.79492835 0.04897435]]\n"
          ]
        }
      ]
    },
    {
      "cell_type": "code",
      "metadata": {
        "colab": {
          "base_uri": "https://localhost:8080/",
          "height": 0
        },
        "id": "sH6cA3nA8ioP",
        "outputId": "3b2a0b4a-1ada-4811-e6fd-16634f090d4f"
      },
      "source": [
        "# Min()\n",
        "print(\"Minimum Value in arr_big is : \", np.min(arr_big))\n",
        "\n",
        "# Max\n",
        "print(\"Maximum Value in arr_big is : \", np.max(arr_big))\n",
        "\n",
        "print()\n",
        "\n",
        "# Mean\n",
        "print(\"Mean Value in arr_big is    : \", np.mean(arr_big))\n",
        "\n",
        "# Median\n",
        "print(\"Median Value in arr_big is  : \", np.median(arr_big))\n"
      ],
      "execution_count": 39,
      "outputs": [
        {
          "output_type": "stream",
          "name": "stdout",
          "text": [
            "Minimum Value in arr_big is :  0.0052594717074475605\n",
            "Maximum Value in arr_big is :  0.9581035625137124\n",
            "\n",
            "Mean Value in arr_big is    :  0.5214514829513219\n",
            "Median Value in arr_big is  :  0.48879861118300133\n"
          ]
        }
      ]
    },
    {
      "cell_type": "code",
      "metadata": {
        "colab": {
          "base_uri": "https://localhost:8080/",
          "height": 0
        },
        "id": "wq6fisqK-UXE",
        "outputId": "2329e3fe-0132-4c5e-b395-25fa0d1b831e"
      },
      "source": [
        "# Std()\n",
        "print(\"Standard Deviation in arr_big is : \", np.std(arr_big))\n",
        "\n",
        "# Var()\n",
        "print(\"Variance in arr_big is           : \", np.max(arr_big))"
      ],
      "execution_count": 40,
      "outputs": [
        {
          "output_type": "stream",
          "name": "stdout",
          "text": [
            "Standard Deviation in arr_big is :  0.29090676221972256\n",
            "Variance in arr_big is           :  0.9581035625137124\n"
          ]
        }
      ]
    },
    {
      "cell_type": "code",
      "metadata": {
        "colab": {
          "base_uri": "https://localhost:8080/",
          "height": 0
        },
        "id": "9qvQjnNn_4lW",
        "outputId": "83d49ed8-470a-44c6-a280-cbc2e4da8a91"
      },
      "source": [
        "# Percentile()\n",
        "print(\"\\n Rank-based statistics of elements in arr_big \")\n",
        "print(\"rank-based statistics of elements [25] : \", np.percentile(arr_big, 25))\n",
        "print(\"rank-based statistics of elements [75] : \", np.percentile(arr_big, 75))"
      ],
      "execution_count": 41,
      "outputs": [
        {
          "output_type": "stream",
          "name": "stdout",
          "text": [
            "\n",
            " Rank-based statistics of elements in arr_big \n",
            "rank-based statistics of elements [25] :  0.31305145963653647\n",
            "rank-based statistics of elements [75] :  0.7942079056908145\n"
          ]
        }
      ]
    },
    {
      "cell_type": "code",
      "metadata": {
        "colab": {
          "base_uri": "https://localhost:8080/",
          "height": 0
        },
        "id": "2KBN3Tl5AY0I",
        "outputId": "803a30e1-6a86-46a3-d04b-fb53f2532d78"
      },
      "source": [
        "# Any()\n",
        "# Evaluate whether any elements are true\n",
        "\n",
        "print(\"Evaluating any element in arr_big is greaterthan 0.5\")\n",
        "np.any(arr_big>.5)"
      ],
      "execution_count": 42,
      "outputs": [
        {
          "output_type": "stream",
          "name": "stdout",
          "text": [
            "Evaluating any element in arr_big is greaterthan 0.5\n"
          ]
        },
        {
          "output_type": "execute_result",
          "data": {
            "text/plain": [
              "True"
            ]
          },
          "metadata": {},
          "execution_count": 42
        }
      ]
    },
    {
      "cell_type": "code",
      "metadata": {
        "colab": {
          "base_uri": "https://localhost:8080/",
          "height": 0
        },
        "id": "UvYrdd76BIzR",
        "outputId": "2531a7bf-6810-4c1d-c3fe-e2e4db7903f9"
      },
      "source": [
        "# All()\n",
        "# Evaluate whether all elements are true\n",
        "\n",
        "print(\"Evaluating all element in arr_big are greaterthan 0.5\")\n",
        "np.all(arr_big>.5)"
      ],
      "execution_count": 43,
      "outputs": [
        {
          "output_type": "stream",
          "name": "stdout",
          "text": [
            "Evaluating all element in arr_big are greaterthan 0.5\n"
          ]
        },
        {
          "output_type": "execute_result",
          "data": {
            "text/plain": [
              "False"
            ]
          },
          "metadata": {},
          "execution_count": 43
        }
      ]
    },
    {
      "cell_type": "markdown",
      "metadata": {
        "id": "gDfa0JeHCHTg"
      },
      "source": [
        "**(2) Demonstrate the Numpy Broadcasting Rules with examples of your choice**"
      ]
    },
    {
      "cell_type": "markdown",
      "metadata": {
        "id": "8_C9WTh_CRrv"
      },
      "source": [
        "What is Broadcasting?\n",
        "* Broadcasting is simply a set of rules for applying binary universal function(addition, subtraction, multiplication, etc.) on arrays of different sizes."
      ]
    },
    {
      "cell_type": "markdown",
      "metadata": {
        "id": "KJUvLysbDt8B"
      },
      "source": [
        "# Rules of Broadcasting\n",
        "Broadcasting in NumPy follows a strict set of rules to determine the interaction\n",
        "between the two arrays:\n",
        "* Rule 1: If the two arrays differ in their number of dimensions, the shape of \n",
        "the one with fewer dimensions is padded with ones on its leading (left) side.\n",
        "* Rule 2: If the shape of the two arrays does not match in any dimension, the   array with shape equal to 1 in that dimension is stretched to match the other shape.\n",
        "* Rule 3: If in any dimension the sizes disagree and neither is equal to 1, an error is raised."
      ]
    },
    {
      "cell_type": "markdown",
      "metadata": {
        "id": "A9sbJPv02c-V"
      },
      "source": [
        "Example 1"
      ]
    },
    {
      "cell_type": "code",
      "metadata": {
        "colab": {
          "base_uri": "https://localhost:8080/",
          "height": 0
        },
        "id": "oSNDpJG4COUO",
        "outputId": "bf458f77-9cc7-48bf-d646-6284d888f655"
      },
      "source": [
        "# Creating 2 arrays of 2D and 1D\n",
        "\n",
        "A = np.ones((2,3))  # 2D\n",
        "a = np.arange(1,4)  # 1D\n",
        "\n",
        "print(\"The 2D array, A :\\n\", A)\n",
        "print()\n",
        "print(\"The 1D array, a :\\n\", a)"
      ],
      "execution_count": 44,
      "outputs": [
        {
          "output_type": "stream",
          "name": "stdout",
          "text": [
            "The 2D array, A :\n",
            " [[1. 1. 1.]\n",
            " [1. 1. 1.]]\n",
            "\n",
            "The 1D array, a :\n",
            " [1 2 3]\n"
          ]
        }
      ]
    },
    {
      "cell_type": "code",
      "metadata": {
        "colab": {
          "base_uri": "https://localhost:8080/",
          "height": 0
        },
        "id": "1ckLdz8YwZnR",
        "outputId": "dd0069a9-ec79-4e61-ed61-5e40c2764d16"
      },
      "source": [
        "# Finding the shape of 2 arrays\n",
        "\n",
        "print(A.shape)\n",
        "print(a.shape)"
      ],
      "execution_count": 45,
      "outputs": [
        {
          "output_type": "stream",
          "name": "stdout",
          "text": [
            "(2, 3)\n",
            "(3,)\n"
          ]
        }
      ]
    },
    {
      "cell_type": "markdown",
      "metadata": {
        "id": "MlbZgD8twvDO"
      },
      "source": [
        "1.  By rule 1, the array 'a' has fewer dimensions, so pad it on the left with ones, and shape become:\n",
        "*  A.shape -> (2, 3)\n",
        "*  a.shape -> (1, 3)\n",
        "2.  By rule 2, the first dimension disagrees, so stretch this dimension to:\n",
        "\n",
        "*  A.shape -> (2, 3)\n",
        "*  a.shape -> (2, 3)"
      ]
    },
    {
      "cell_type": "code",
      "metadata": {
        "colab": {
          "base_uri": "https://localhost:8080/",
          "height": 0
        },
        "id": "yz4vMVmzJo8Z",
        "outputId": "a12473a1-5064-4180-ba61-63809d1427ff"
      },
      "source": [
        "# Adding the 2 arrays\n",
        "print(\"Adding : A(2D) + a(1D)\")\n",
        "print()\n",
        "print(A, \" + \", a)\n",
        "print()\n",
        "\n",
        "A+a"
      ],
      "execution_count": 46,
      "outputs": [
        {
          "output_type": "stream",
          "name": "stdout",
          "text": [
            "Adding : A(2D) + a(1D)\n",
            "\n",
            "[[1. 1. 1.]\n",
            " [1. 1. 1.]]  +  [1 2 3]\n",
            "\n"
          ]
        },
        {
          "output_type": "execute_result",
          "data": {
            "text/plain": [
              "array([[2., 3., 4.],\n",
              "       [2., 3., 4.]])"
            ]
          },
          "metadata": {},
          "execution_count": 46
        }
      ]
    },
    {
      "cell_type": "markdown",
      "metadata": {
        "id": "ClIDvOMh2f_5"
      },
      "source": [
        "Example 2"
      ]
    },
    {
      "cell_type": "code",
      "metadata": {
        "colab": {
          "base_uri": "https://localhost:8080/",
          "height": 0
        },
        "id": "Y2KJ4rzM2ihj",
        "outputId": "877fd62e-d805-4263-eb7c-3cbc1d71e354"
      },
      "source": [
        "B = np.arange(3,6).reshape((3, 1))\n",
        "b = np.arange(3)\n",
        "\n",
        "print(\"B = \\n\", B)\n",
        "print()\n",
        "print(\"b = \\n\", b)"
      ],
      "execution_count": 47,
      "outputs": [
        {
          "output_type": "stream",
          "name": "stdout",
          "text": [
            "B = \n",
            " [[3]\n",
            " [4]\n",
            " [5]]\n",
            "\n",
            "b = \n",
            " [0 1 2]\n"
          ]
        }
      ]
    },
    {
      "cell_type": "code",
      "metadata": {
        "colab": {
          "base_uri": "https://localhost:8080/",
          "height": 0
        },
        "id": "k3ggrdAk3SNp",
        "outputId": "6083505c-34d2-4e03-9826-5e2e80b546f2"
      },
      "source": [
        "print(\"Shape of B is : \", B.shape)\n",
        "print(\"Shape of b is : \", b.shape)"
      ],
      "execution_count": 48,
      "outputs": [
        {
          "output_type": "stream",
          "name": "stdout",
          "text": [
            "Shape of B is :  (3, 1)\n",
            "Shape of b is :  (3,)\n"
          ]
        }
      ]
    },
    {
      "cell_type": "markdown",
      "metadata": {
        "id": "27Jgticv31Va"
      },
      "source": [
        "1.  Rule 1 says we must pad the shape of b with ones:\n",
        "* B.shape -> (3, 1)\n",
        "* b.shape -> (1, 3)\n",
        "2.  Rule 2 tells us that we upgrade each of these ones to match the corresponding\n",
        "size of the other array:\n",
        "* B.shape -> (3, 3)\n",
        "* b.shape -> (3, 3)\n",
        "\n",
        "\n",
        "> Now the Shapes are compatible\n",
        "\n"
      ]
    },
    {
      "cell_type": "code",
      "metadata": {
        "colab": {
          "base_uri": "https://localhost:8080/",
          "height": 0
        },
        "id": "dvNVPHAS4eQW",
        "outputId": "96016187-2539-48e9-fe09-f683883db345"
      },
      "source": [
        "# Adding the 2 arrays\n",
        "\n",
        "print(\"Adding : B + b\")\n",
        "print()\n",
        "print(B, \" + \", b)\n",
        "print()\n",
        "B + b"
      ],
      "execution_count": 49,
      "outputs": [
        {
          "output_type": "stream",
          "name": "stdout",
          "text": [
            "Adding : B + b\n",
            "\n",
            "[[3]\n",
            " [4]\n",
            " [5]]  +  [0 1 2]\n",
            "\n"
          ]
        },
        {
          "output_type": "execute_result",
          "data": {
            "text/plain": [
              "array([[3, 4, 5],\n",
              "       [4, 5, 6],\n",
              "       [5, 6, 7]])"
            ]
          },
          "metadata": {},
          "execution_count": 49
        }
      ]
    },
    {
      "cell_type": "markdown",
      "metadata": {
        "id": "SkHEGf-E52vW"
      },
      "source": [
        "Example 3"
      ]
    },
    {
      "cell_type": "code",
      "metadata": {
        "colab": {
          "base_uri": "https://localhost:8080/",
          "height": 0
        },
        "id": "8xQ-6Sa055fH",
        "outputId": "16119f2b-0227-47f6-b44e-eb41c0b7ce9a"
      },
      "source": [
        "C = np.ones((3, 2))\n",
        "c = np.arange(3)\n",
        "\n",
        "print(\"C = \\n\", C)\n",
        "print()\n",
        "print(\"c = \\n\", c)"
      ],
      "execution_count": 50,
      "outputs": [
        {
          "output_type": "stream",
          "name": "stdout",
          "text": [
            "C = \n",
            " [[1. 1.]\n",
            " [1. 1.]\n",
            " [1. 1.]]\n",
            "\n",
            "c = \n",
            " [0 1 2]\n"
          ]
        }
      ]
    },
    {
      "cell_type": "code",
      "metadata": {
        "colab": {
          "base_uri": "https://localhost:8080/",
          "height": 0
        },
        "id": "PpFs8WEb6Q4E",
        "outputId": "e4a39da6-a02e-4f96-ca76-f1747c70fe2f"
      },
      "source": [
        "print(\"Shape of C is : \", C.shape)\n",
        "print(\"Shape of c is : \", c.shape)"
      ],
      "execution_count": 51,
      "outputs": [
        {
          "output_type": "stream",
          "name": "stdout",
          "text": [
            "Shape of C is :  (3, 2)\n",
            "Shape of c is :  (3,)\n"
          ]
        }
      ]
    },
    {
      "cell_type": "markdown",
      "metadata": {
        "id": "-Jo7Op606ZDr"
      },
      "source": [
        "The shapes of the arrays are:\n",
        "* C.shape = (3, 2)\n",
        "* c.shape = (3,)\n",
        "1.  Rule 1 tells us that we must pad the shape of a with ones:\n",
        "*  C.shape -> (3, 2)\n",
        "*  c.shape -> (1, 3)\n",
        "2.  Rule 2, the first dimension of a is stretched to match that of M:\n",
        "*  C.shape -> (3, 2)\n",
        "*  c.shape -> (3, 3)\n",
        "3.  Rule 3 — the final shapes do not match, so these two arrays are incompatible"
      ]
    },
    {
      "cell_type": "code",
      "metadata": {
        "colab": {
          "base_uri": "https://localhost:8080/",
          "height": 305
        },
        "id": "V42t5q70Atrm",
        "outputId": "cf0a6a19-878d-4133-eb8f-2989cdb7358b"
      },
      "source": [
        "# Adding the 2 arrays\n",
        "\n",
        "print(\"Adding : C + c\")\n",
        "print()\n",
        "print(C, \" + \", c)\n",
        "print()\n",
        "C + c"
      ],
      "execution_count": 52,
      "outputs": [
        {
          "output_type": "stream",
          "name": "stdout",
          "text": [
            "Adding : C + c\n",
            "\n",
            "[[1. 1.]\n",
            " [1. 1.]\n",
            " [1. 1.]]  +  [0 1 2]\n",
            "\n"
          ]
        },
        {
          "output_type": "error",
          "ename": "ValueError",
          "evalue": "ignored",
          "traceback": [
            "\u001b[0;31m---------------------------------------------------------------------------\u001b[0m",
            "\u001b[0;31mValueError\u001b[0m                                Traceback (most recent call last)",
            "\u001b[0;32m<ipython-input-52-29fffc352346>\u001b[0m in \u001b[0;36m<module>\u001b[0;34m()\u001b[0m\n\u001b[1;32m      5\u001b[0m \u001b[0mprint\u001b[0m\u001b[0;34m(\u001b[0m\u001b[0mC\u001b[0m\u001b[0;34m,\u001b[0m \u001b[0;34m\" + \"\u001b[0m\u001b[0;34m,\u001b[0m \u001b[0mc\u001b[0m\u001b[0;34m)\u001b[0m\u001b[0;34m\u001b[0m\u001b[0;34m\u001b[0m\u001b[0m\n\u001b[1;32m      6\u001b[0m \u001b[0mprint\u001b[0m\u001b[0;34m(\u001b[0m\u001b[0;34m)\u001b[0m\u001b[0;34m\u001b[0m\u001b[0;34m\u001b[0m\u001b[0m\n\u001b[0;32m----> 7\u001b[0;31m \u001b[0mC\u001b[0m \u001b[0;34m+\u001b[0m \u001b[0mc\u001b[0m\u001b[0;34m\u001b[0m\u001b[0;34m\u001b[0m\u001b[0m\n\u001b[0m",
            "\u001b[0;31mValueError\u001b[0m: operands could not be broadcast together with shapes (3,2) (3,) "
          ]
        }
      ]
    },
    {
      "cell_type": "markdown",
      "metadata": {
        "id": "W9OI9BnDBNn4"
      },
      "source": [
        "In above case error occured. The error is:\n",
        "* ValueError: operands could not be broadcast together with shapes (3,2) (3,)\n",
        "\n",
        "\n",
        "\n",
        "\n",
        "\n"
      ]
    }
  ]
}