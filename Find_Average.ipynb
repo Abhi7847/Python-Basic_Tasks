{
  "nbformat": 4,
  "nbformat_minor": 0,
  "metadata": {
    "colab": {
      "name": "Average_Marks",
      "provenance": [],
      "collapsed_sections": []
    },
    "kernelspec": {
      "name": "python3",
      "display_name": "Python 3"
    },
    "language_info": {
      "name": "python"
    }
  },
  "cells": [
    {
      "cell_type": "code",
      "metadata": {
        "colab": {
          "base_uri": "https://localhost:8080/"
        },
        "id": "uwgGNijxZStV",
        "outputId": "41b55e20-ce68-48d2-e8cd-77f4991bd8c6"
      },
      "source": [
        "# To find the Average Marks of 5 Subjects\n",
        "\n",
        "a = float(input(\"Enter the Mark of Subject 1 : \"))\n",
        "b = float(input(\"Enter the Mark of Subject 2 : \"))\n",
        "c = float(input(\"Enter the Mark of Subject 3 : \"))\n",
        "d = float(input(\"Enter the Mark of Subject 4 : \"))\n",
        "e = float(input(\"Enter the Mark of Subject 5 : \"))\n",
        "\n",
        "f = float(input(\"Enter the Total Marks       : \"))\n",
        "\n",
        "total = a+b+c+d+e    # To find marks obtained\n",
        "\n",
        "print(\"____________________________________________\")\n",
        "\n",
        "print(\"Marks Obtained   : \", total)\n",
        "print(\"Average Marks    : \", total/5)\n",
        "print(\"Percentage Marks : \", (total/f)*100)"
      ],
      "execution_count": null,
      "outputs": [
        {
          "output_type": "stream",
          "text": [
            "Enter the Mark of Subject 1 : 45\n",
            "Enter the Mark of Subject 2 : 40\n",
            "Enter the Mark of Subject 3 : 45\n",
            "Enter the Mark of Subject 4 : 40\n",
            "Enter the Mark of Subject 5 : 30\n",
            "Enter the Total Marks       : 250\n",
            "____________________________________________\n",
            "Marks Obtained   :  200.0\n",
            "Average Marks    :  40.0\n",
            "Percentage Marks :  80.0\n"
          ],
          "name": "stdout"
        }
      ]
    }
  ]
}