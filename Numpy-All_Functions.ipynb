{
  "nbformat": 4,
  "nbformat_minor": 0,
  "metadata": {
    "colab": {
      "name": "Lab 5",
      "provenance": [],
      "collapsed_sections": []
    },
    "kernelspec": {
      "name": "python3",
      "display_name": "Python 3"
    },
    "language_info": {
      "name": "python"
    }
  },
  "cells": [
    {
      "cell_type": "markdown",
      "metadata": {
        "id": "y25-wV1I3wD0"
      },
      "source": [
        " **Lab Exercise-5**\n",
        "\n",
        "---\n",
        "\n"
      ]
    },
    {
      "cell_type": "markdown",
      "metadata": {
        "id": "-GQ6SKMFtpEv"
      },
      "source": [
        "(a) **Array Creation** "
      ]
    },
    {
      "cell_type": "code",
      "metadata": {
        "id": "qHy1Gjsx3uor"
      },
      "source": [
        "# Importing Numpy\n",
        "import numpy as np          "
      ],
      "execution_count": null,
      "outputs": []
    },
    {
      "cell_type": "code",
      "metadata": {
        "colab": {
          "base_uri": "https://localhost:8080/"
        },
        "id": "IG5ciJt23iD5",
        "outputId": "4a6fa60a-70af-47d1-b964-7cd9a2bf0a88"
      },
      "source": [
        "\"\"\" array() - Ordered collection of elements of basic data\n",
        "types of given length \"\"\"\n",
        "\n",
        "a = np.array([10,20,30,40,50,60,70,80,90,100])\n",
        "print(a)"
      ],
      "execution_count": null,
      "outputs": [
        {
          "output_type": "stream",
          "text": [
            "[ 10  20  30  40  50  60  70  80  90 100]\n"
          ],
          "name": "stdout"
        }
      ]
    },
    {
      "cell_type": "code",
      "metadata": {
        "colab": {
          "base_uri": "https://localhost:8080/"
        },
        "id": "mviTeQG8uZ9Z",
        "outputId": "24470c2e-015a-4d19-e562-c0123b49dd19"
      },
      "source": [
        "\"\"\" arrange() - returns equally spaced numbers with in the \n",
        "given range based on step size \"\"\"\n",
        "\n",
        "b = np.arange(10,101,10)\n",
        "print(b)"
      ],
      "execution_count": null,
      "outputs": [
        {
          "output_type": "stream",
          "text": [
            "[ 10  20  30  40  50  60  70  80  90 100]\n"
          ],
          "name": "stdout"
        }
      ]
    },
    {
      "cell_type": "code",
      "metadata": {
        "colab": {
          "base_uri": "https://localhost:8080/"
        },
        "id": "pIbDW-nswB8j",
        "outputId": "db6e7bf9-0d90-42f4-e1a9-d4e235e814c6"
      },
      "source": [
        "\"\"\" Zeros - returns an array of given shape and type\n",
        "filled with zeros \"\"\"\n",
        "\n",
        "c = np.zeros((4,5))\n",
        "print(c)\n"
      ],
      "execution_count": null,
      "outputs": [
        {
          "output_type": "stream",
          "text": [
            "[[0. 0. 0. 0. 0.]\n",
            " [0. 0. 0. 0. 0.]\n",
            " [0. 0. 0. 0. 0.]\n",
            " [0. 0. 0. 0. 0.]]\n"
          ],
          "name": "stdout"
        }
      ]
    },
    {
      "cell_type": "code",
      "metadata": {
        "colab": {
          "base_uri": "https://localhost:8080/"
        },
        "id": "gGOBNRyNwuap",
        "outputId": "b319d0f3-266f-4912-980e-22d524246062"
      },
      "source": [
        "\"\"\" Ones - returns an array of given shape and type filled\n",
        "with ones \"\"\"\n",
        "\n",
        "d = np.ones((4,5))\n",
        "print(d)"
      ],
      "execution_count": null,
      "outputs": [
        {
          "output_type": "stream",
          "text": [
            "[[1. 1. 1. 1. 1.]\n",
            " [1. 1. 1. 1. 1.]\n",
            " [1. 1. 1. 1. 1.]\n",
            " [1. 1. 1. 1. 1.]]\n"
          ],
          "name": "stdout"
        }
      ]
    },
    {
      "cell_type": "code",
      "metadata": {
        "colab": {
          "base_uri": "https://localhost:8080/"
        },
        "id": "6h_xo3YgxM-u",
        "outputId": "30ded9e7-7903-494d-ebfc-713d04286c18"
      },
      "source": [
        "\"\"\" full() - Create a constant array \"\"\"\n",
        "\n",
        "e = np.full(4,5)\n",
        "print(e)\n"
      ],
      "execution_count": null,
      "outputs": [
        {
          "output_type": "stream",
          "text": [
            "[5 5 5 5]\n"
          ],
          "name": "stdout"
        }
      ]
    },
    {
      "cell_type": "code",
      "metadata": {
        "colab": {
          "base_uri": "https://localhost:8080/"
        },
        "id": "uN58OaSIyf2S",
        "outputId": "726deb9b-825a-404a-8f50-3c0082b9c5b5"
      },
      "source": [
        "\"\"\" eye() - Create an identity matrix \"\"\"\n",
        "\n",
        "f = np.eye(4,5)\n",
        "print(f)"
      ],
      "execution_count": null,
      "outputs": [
        {
          "output_type": "stream",
          "text": [
            "[[1. 0. 0. 0. 0.]\n",
            " [0. 1. 0. 0. 0.]\n",
            " [0. 0. 1. 0. 0.]\n",
            " [0. 0. 0. 1. 0.]]\n"
          ],
          "name": "stdout"
        }
      ]
    },
    {
      "cell_type": "code",
      "metadata": {
        "colab": {
          "base_uri": "https://localhost:8080/"
        },
        "id": "ZjCOYA8IzDn8",
        "outputId": "12ed8667-e999-4f07-f699-12c25a49542c"
      },
      "source": [
        "\"\"\" random() - Create an array with random values \"\"\"\n",
        "\n",
        "g = np.random.random((4,2))\n",
        "print(g)"
      ],
      "execution_count": null,
      "outputs": [
        {
          "output_type": "stream",
          "text": [
            "[[0.81515474 0.02415527]\n",
            " [0.84761976 0.34513453]\n",
            " [0.02626231 0.1336901 ]\n",
            " [0.38880663 0.17615676]]\n"
          ],
          "name": "stdout"
        }
      ]
    },
    {
      "cell_type": "code",
      "metadata": {
        "colab": {
          "base_uri": "https://localhost:8080/"
        },
        "id": "Y5dz-EBh4-82",
        "outputId": "f93aa932-a69b-4051-edf6-b5ae292e3460"
      },
      "source": [
        "\"\"\" linspace - returns equally spaced numbers within the\n",
        "given range based on the sample number \"\"\"\n",
        "\n",
        "h = np.linspace(10,100,10)\n",
        "print(h)"
      ],
      "execution_count": null,
      "outputs": [
        {
          "output_type": "stream",
          "text": [
            "[ 10.  20.  30.  40.  50.  60.  70.  80.  90. 100.]\n"
          ],
          "name": "stdout"
        }
      ]
    },
    {
      "cell_type": "markdown",
      "metadata": {
        "id": "DXK5F03G6N1h"
      },
      "source": [
        "(b) **Attributes of arrays**\n"
      ]
    },
    {
      "cell_type": "code",
      "metadata": {
        "colab": {
          "base_uri": "https://localhost:8080/"
        },
        "id": "DiU0Bh9H6Qb-",
        "outputId": "41c754d3-6c02-46b9-8db0-d44564f05beb"
      },
      "source": [
        "a = np.ones((4,5))\n",
        "print(d)"
      ],
      "execution_count": null,
      "outputs": [
        {
          "output_type": "stream",
          "text": [
            "[[1. 1. 1. 1. 1.]\n",
            " [1. 1. 1. 1. 1.]\n",
            " [1. 1. 1. 1. 1.]\n",
            " [1. 1. 1. 1. 1.]]\n"
          ],
          "name": "stdout"
        }
      ]
    },
    {
      "cell_type": "code",
      "metadata": {
        "colab": {
          "base_uri": "https://localhost:8080/"
        },
        "id": "CyZJ4E1h7S7d",
        "outputId": "c86d2a0a-4af3-4b65-b31d-447c182cb920"
      },
      "source": [
        "a.size     # Number of array elements"
      ],
      "execution_count": null,
      "outputs": [
        {
          "output_type": "execute_result",
          "data": {
            "text/plain": [
              "20"
            ]
          },
          "metadata": {},
          "execution_count": 49
        }
      ]
    },
    {
      "cell_type": "code",
      "metadata": {
        "colab": {
          "base_uri": "https://localhost:8080/"
        },
        "id": "o1u43Fdg738M",
        "outputId": "7e042821-ac52-4741-b181-645cf834104b"
      },
      "source": [
        "a.shape    # Array dimensions"
      ],
      "execution_count": null,
      "outputs": [
        {
          "output_type": "execute_result",
          "data": {
            "text/plain": [
              "(4, 5)"
            ]
          },
          "metadata": {},
          "execution_count": 50
        }
      ]
    },
    {
      "cell_type": "code",
      "metadata": {
        "colab": {
          "base_uri": "https://localhost:8080/"
        },
        "id": "VGdKOB0M8YVp",
        "outputId": "02f28aa0-d5cc-474f-dbb7-24b12e526f20"
      },
      "source": [
        "a.ndim     # Number of array dimensions"
      ],
      "execution_count": null,
      "outputs": [
        {
          "output_type": "execute_result",
          "data": {
            "text/plain": [
              "2"
            ]
          },
          "metadata": {},
          "execution_count": 51
        }
      ]
    },
    {
      "cell_type": "code",
      "metadata": {
        "colab": {
          "base_uri": "https://localhost:8080/"
        },
        "id": "2XLXRING80r7",
        "outputId": "9d24ab05-d542-4d25-b657-10cfccb3802c"
      },
      "source": [
        "a.dtype    # Data type of array elements"
      ],
      "execution_count": null,
      "outputs": [
        {
          "output_type": "execute_result",
          "data": {
            "text/plain": [
              "dtype('float64')"
            ]
          },
          "metadata": {},
          "execution_count": 52
        }
      ]
    },
    {
      "cell_type": "code",
      "metadata": {
        "colab": {
          "base_uri": "https://localhost:8080/"
        },
        "id": "cIHj_KYw9btg",
        "outputId": "f9507a29-7f32-403e-f69e-de2e088fd0e7"
      },
      "source": [
        "a.itemsize   # Length of one array element in bytes"
      ],
      "execution_count": null,
      "outputs": [
        {
          "output_type": "execute_result",
          "data": {
            "text/plain": [
              "8"
            ]
          },
          "metadata": {},
          "execution_count": 53
        }
      ]
    },
    {
      "cell_type": "code",
      "metadata": {
        "colab": {
          "base_uri": "https://localhost:8080/"
        },
        "id": "EXrrdFFp9vCx",
        "outputId": "a452f2c5-5ce1-4dc6-a0a5-3124eaf71b75"
      },
      "source": [
        "a.data       # Python buffer object pointing to the start of the array's data"
      ],
      "execution_count": null,
      "outputs": [
        {
          "output_type": "execute_result",
          "data": {
            "text/plain": [
              "<memory at 0x7f42381efe50>"
            ]
          },
          "metadata": {},
          "execution_count": 54
        }
      ]
    },
    {
      "cell_type": "markdown",
      "metadata": {
        "id": "TkAUaP7J-vE8"
      },
      "source": [
        "(c) **Indexing of arrays**"
      ]
    },
    {
      "cell_type": "code",
      "metadata": {
        "id": "voB-_hLx-yW1",
        "colab": {
          "base_uri": "https://localhost:8080/"
        },
        "outputId": "a90ed213-a427-43be-f7f0-4755f5552ddd"
      },
      "source": [
        "# Getting and setting the value of individual array elements\n",
        "# Select the element using index numbers\n",
        "\n",
        "a = np.array([10,20,30,40,50,60,70,80,90,100])\n",
        "b = np.array([11,22,33,44,55,66,77,88,99,100])\n",
        "\n",
        "print(\" The 2nd Element from a is : \", a[1])\n",
        "print(\" The 4th Element from b is : \", b[3])"
      ],
      "execution_count": null,
      "outputs": [
        {
          "output_type": "stream",
          "text": [
            " The 2nd Element from a is :  20\n",
            " The 4th Element from b is :  44\n"
          ],
          "name": "stdout"
        }
      ]
    },
    {
      "cell_type": "code",
      "metadata": {
        "id": "eQUVjAIgBvj9",
        "colab": {
          "base_uri": "https://localhost:8080/"
        },
        "outputId": "588fc341-b7c0-4f36-d8e5-388d60547e02"
      },
      "source": [
        "# Select the element using index numbers\n",
        "\n",
        "c = np.array([[(1.5,2,3), (4,5,6)], [(3,2,1), (4,5,6)]])\n",
        "c[1,0,1]  "
      ],
      "execution_count": null,
      "outputs": [
        {
          "output_type": "execute_result",
          "data": {
            "text/plain": [
              "2.0"
            ]
          },
          "metadata": {},
          "execution_count": 56
        }
      ]
    },
    {
      "cell_type": "markdown",
      "metadata": {
        "id": "giiDXBTeBwj7"
      },
      "source": [
        "(d) **Slicing of arrays**"
      ]
    },
    {
      "cell_type": "code",
      "metadata": {
        "id": "gdARlLJ0B1_a",
        "colab": {
          "base_uri": "https://localhost:8080/"
        },
        "outputId": "325145ab-4a41-464c-f9dd-4f4a9347ca3c"
      },
      "source": [
        "# Getting and setting smaller subarrays within a larger array\n",
        "\n",
        "c = np.array([[(1.5,2,3), (4,5,6)], [(3,2,1), (4,5,6)]])\n",
        "c[0:2,1]"
      ],
      "execution_count": null,
      "outputs": [
        {
          "output_type": "execute_result",
          "data": {
            "text/plain": [
              "array([[4., 5., 6.],\n",
              "       [4., 5., 6.]])"
            ]
          },
          "metadata": {},
          "execution_count": 57
        }
      ]
    },
    {
      "cell_type": "code",
      "metadata": {
        "colab": {
          "base_uri": "https://localhost:8080/"
        },
        "id": "q5d4pJn4FG5J",
        "outputId": "92117832-5bb4-4378-f185-f30cb001fca6"
      },
      "source": [
        "c = np.array([(1.5,2,3), (4,5,6)])\n",
        "c[1:2]"
      ],
      "execution_count": null,
      "outputs": [
        {
          "output_type": "execute_result",
          "data": {
            "text/plain": [
              "array([[4., 5., 6.]])"
            ]
          },
          "metadata": {},
          "execution_count": 58
        }
      ]
    },
    {
      "cell_type": "code",
      "metadata": {
        "colab": {
          "base_uri": "https://localhost:8080/"
        },
        "id": "PfL-j_1DEqfh",
        "outputId": "bd619a09-15d2-40c0-a089-7f1a611f48d0"
      },
      "source": [
        "c = np.array([(1.5,2,3), (4,5,6)])\n",
        "c[1:2,0]"
      ],
      "execution_count": null,
      "outputs": [
        {
          "output_type": "execute_result",
          "data": {
            "text/plain": [
              "array([4.])"
            ]
          },
          "metadata": {},
          "execution_count": 59
        }
      ]
    },
    {
      "cell_type": "markdown",
      "metadata": {
        "id": "Wpns02woCKJ3"
      },
      "source": [
        "(e)**Reshaping of arrays**"
      ]
    },
    {
      "cell_type": "code",
      "metadata": {
        "colab": {
          "base_uri": "https://localhost:8080/"
        },
        "id": "bEgtK0HTCNQw",
        "outputId": "7dbcdc75-9498-408c-dbbb-44e84b27da90"
      },
      "source": [
        "\"\"\" reshape() - Changing the shape of a given array, but don’t change data \"\"\"\n",
        "\n",
        "a = np.ones((4,5))\n",
        "a.reshape(2,10)"
      ],
      "execution_count": null,
      "outputs": [
        {
          "output_type": "execute_result",
          "data": {
            "text/plain": [
              "array([[1., 1., 1., 1., 1., 1., 1., 1., 1., 1.],\n",
              "       [1., 1., 1., 1., 1., 1., 1., 1., 1., 1.]])"
            ]
          },
          "metadata": {},
          "execution_count": 60
        }
      ]
    },
    {
      "cell_type": "code",
      "metadata": {
        "colab": {
          "base_uri": "https://localhost:8080/"
        },
        "id": "3wPSiqL4EJb_",
        "outputId": "bbf91b00-899d-47ff-fdb8-2d8350d523f5"
      },
      "source": [
        "b = np.ones((3,4))\n",
        "b.reshape(6,2)"
      ],
      "execution_count": null,
      "outputs": [
        {
          "output_type": "execute_result",
          "data": {
            "text/plain": [
              "array([[1., 1.],\n",
              "       [1., 1.],\n",
              "       [1., 1.],\n",
              "       [1., 1.],\n",
              "       [1., 1.],\n",
              "       [1., 1.]])"
            ]
          },
          "metadata": {},
          "execution_count": 61
        }
      ]
    }
  ]
}